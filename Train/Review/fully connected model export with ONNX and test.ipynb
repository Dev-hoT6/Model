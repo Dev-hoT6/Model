{
 "cells": [
  {
   "cell_type": "markdown",
   "id": "bde5e7f0",
   "metadata": {},
   "source": [
    "## Export ONNX"
   ]
  },
  {
   "cell_type": "code",
   "execution_count": 1,
   "id": "da45febd",
   "metadata": {},
   "outputs": [
    {
     "name": "stderr",
     "output_type": "stream",
     "text": [
      "C:\\Users\\USER\\anaconda3\\envs\\preparation\\lib\\site-packages\\tqdm\\auto.py:21: TqdmWarning: IProgress not found. Please update jupyter and ipywidgets. See https://ipywidgets.readthedocs.io/en/stable/user_install.html\n",
      "  from .autonotebook import tqdm as notebook_tqdm\n"
     ]
    }
   ],
   "source": [
    "import onnx\n",
    "import torch\n",
    "import onnxruntime\n",
    "import numpy as np\n",
    "import torch.nn as nn\n",
    "import torch.nn.init as init\n"
   ]
  },
  {
   "cell_type": "code",
   "execution_count": 2,
   "id": "bc26ff4b",
   "metadata": {},
   "outputs": [],
   "source": [
    "class ReviewClassifier(nn.Module):\n",
    "    def __init__(self):\n",
    "        super(ReviewClassifier, self).__init__()\n",
    "        self.fc_1 = nn.Linear(768 * 2, 512)\n",
    "        self.fc_2 = nn.Linear(512, 512)\n",
    "        self.fc_3 = nn.Linear(512, 3)\n",
    "\n",
    "        self.relu = nn.ReLU()\n",
    "        self.leaky = nn.LeakyReLU()\n",
    "        self.dropout = nn.Dropout(0.3)\n",
    "\n",
    "    def forward(self, x):\n",
    "        z = self.leaky(self.fc_1(x))\n",
    "        z = self.dropout(z)\n",
    "        z = self.leaky(self.fc_2(z))\n",
    "        z = self.dropout(z)\n",
    "        # z = self.leaky(self.fc_2(z))\n",
    "        # z = self.dropout(z)\n",
    "        z = self.fc_3(z)\n",
    "        return z"
   ]
  },
  {
   "cell_type": "code",
   "execution_count": 3,
   "id": "16ce1f6f",
   "metadata": {},
   "outputs": [],
   "source": [
    "model_path = \"Architecture-Score_Classifier-240116_0623-021-8320-8502.pt\"\n",
    "# device = torch.device(\"cuda:0\" if torch.cuda.is_available() else \"cpu\")\n",
    "# model = ReviewClassifier()\n",
    "model = torch.load(model_path)\n",
    "# model.load_state_dict(weight)\n",
    "batch_size = 1\n",
    "x = torch.randn(batch_size,1,1,768 * 2, requires_grad = True)\n",
    "torch_out = model(x)"
   ]
  },
  {
   "cell_type": "code",
   "execution_count": 4,
   "id": "6d8417ba",
   "metadata": {},
   "outputs": [],
   "source": [
    "save_model_name = \"Architecture-Score_Classifier.onnx\"\n",
    "torch.onnx.export(model,               # 실행될 모델\n",
    "                  x,                         # 모델 입력값 (튜플 또는 여러 입력값들도 가능)\n",
    "                  save_model_name,   # 모델 저장 경로 (파일 또는 파일과 유사한 객체 모두 가능)\n",
    "                  export_params=True,        # 모델 파일 안에 학습된 모델 가중치를 저장할지의 여부\n",
    "                  opset_version=10,          # 모델을 변환할 때 사용할 ONNX 버전\n",
    "                  do_constant_folding=True,  # 최적화시 상수폴딩을 사용할지의 여부\n",
    "                  input_names = ['input'],   # 모델의 입력값을 가리키는 이름\n",
    "                  output_names = ['output'], # 모델의 출력값을 가리키는 이름\n",
    "                  dynamic_axes={'input' : {0 : 'batch_size'},    # 가변적인 길이를 가진 차원\n",
    "                                'output' : {0 : 'batch_size'}})"
   ]
  },
  {
   "cell_type": "markdown",
   "id": "cd0669b7",
   "metadata": {},
   "source": [
    "## Load ONNX and test"
   ]
  },
  {
   "cell_type": "code",
   "execution_count": 5,
   "id": "4643ae04",
   "metadata": {},
   "outputs": [],
   "source": [
    "save_model_name = \"Architecture-Score_Classifier.onnx\"\n",
    "onnx_model = onnx.load(save_model_name)\n",
    "onnx.checker.check_model(onnx_model)"
   ]
  },
  {
   "cell_type": "code",
   "execution_count": 6,
   "id": "49005bbb",
   "metadata": {},
   "outputs": [],
   "source": [
    "ort_session = onnxruntime.InferenceSession(save_model_name)\n",
    "\n",
    "def to_numpy(tensor):\n",
    "    return tensor.detach().cpu().numpy() if tensor.requires_grad else tensor.cpu().numpy()\n",
    "\n",
    "# ONNX 런타임에서 계산된 결과값\n",
    "ort_inputs = {ort_session.get_inputs()[0].name: to_numpy(x)}\n",
    "ort_outs = ort_session.run(None, ort_inputs)"
   ]
  },
  {
   "cell_type": "code",
   "execution_count": 7,
   "id": "73ff38d4",
   "metadata": {},
   "outputs": [],
   "source": [
    "# x = input 값\n",
    "batch_size = 1\n",
    "x = torch.randn(batch_size,1,1,768 * 2, requires_grad = True)\n",
    "ort_inputs = {ort_session.get_inputs()[0].name: to_numpy(x)}\n",
    "ort_outs = ort_session.run(None, ort_inputs)\n",
    "output_y = ort_outs[0]"
   ]
  },
  {
   "cell_type": "code",
   "execution_count": 8,
   "id": "52b067e3",
   "metadata": {},
   "outputs": [
    {
     "name": "stdout",
     "output_type": "stream",
     "text": [
      "[[[[-6.611784   2.6353707  0.7933747]]]]\n"
     ]
    }
   ],
   "source": [
    "print(output_y)"
   ]
  }
 ],
 "metadata": {
  "kernelspec": {
   "display_name": "Python 3 (ipykernel)",
   "language": "python",
   "name": "python3"
  },
  "language_info": {
   "codemirror_mode": {
    "name": "ipython",
    "version": 3
   },
   "file_extension": ".py",
   "mimetype": "text/x-python",
   "name": "python",
   "nbconvert_exporter": "python",
   "pygments_lexer": "ipython3",
   "version": "3.9.16"
  }
 },
 "nbformat": 4,
 "nbformat_minor": 5
}
